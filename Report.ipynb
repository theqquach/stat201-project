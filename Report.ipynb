{
 "cells": [
  {
   "cell_type": "markdown",
   "id": "666be692-84c8-45f7-8c4f-141f2915487d",
   "metadata": {},
   "source": [
    "# Default payment by different education levels\n",
    "## 1. Introduction \n",
    "* According to an article published on Investopedia by James Chen, default payment is generally defined as a failure for borrowers to make required repayments on a debt for businesses, individuals or lenders in general. Default payment may severely impact different aspects in our financial situation in the future such as credit score and the ability to borrow money in the future. It is also argued that default payment is also linked with education level. Based on a research study report by Aalto University in Finland, researchers argued that default payments are more prevalent among those who have a lower educational background. \n",
    "* In this research project, we will be assessing whether the claim above is true by performing hypothesis testing on the `default of credit card clients.xls` dataset where information was based on cases of customer’s credit card in Taiwan. Data was collected by the Department of Information Management at Chung Hua University and the Department of Civil Engineering at Tangkam University both located in Taiwan. Our goal for this project is to examine whether there is a difference in the proportion of people with a university education background who have a default payment on their credit cards and the proportion of those who graduated from high school experiencing credit card’s default payment. The variables being studied are `EDUCATION` and `default payment next month`. "
   ]
  },
  {
   "cell_type": "markdown",
   "id": "98e48c9a-f248-4c53-8867-ea1868c77ced",
   "metadata": {},
   "source": [
    "## 2. Methods:\n",
    "* The data collected offers a comprehensive overview of 23 variables based on whether they have default payments. With these variables we are able to study whether these variables are correlated with a person having default payments. For this study, we will determine whether education level has an effect on the likelihood of default, specifically between high school graduates and university graduates. The distinct categories that expressed in the data allow us to clearly see the difference of each group within the sample.\n",
    "* Our hypotheses will be:  $𝐻_{0}:𝑝1−𝑝2=0$  and  $𝐻_{1}:𝑝1−𝑝2≠0$  (we are treating groups of high school education level and university education level as two independent samples) . Looking at the observed difference we calculated above, we are likely to reject our  𝐻0  in favor of  𝐻1 . However, we still need to make sure that our finding is statistically significant. Therefore, we will perform a difference of proportions hypothesis test. We can then create a bootstrap distribution and calculate confidence intervals for the true mean difference between the two variables.\n"
   ]
  },
  {
   "cell_type": "markdown",
   "id": "16c3550c-756b-433b-8e35-6d7cc3078f96",
   "metadata": {},
   "source": [
    "## 3. Loading and cleaning data: \n",
    "### Loading data:"
   ]
  },
  {
   "cell_type": "code",
   "execution_count": 21,
   "id": "d936869c-d56e-477d-9210-b03bb8938ca2",
   "metadata": {},
   "outputs": [
    {
     "name": "stderr",
     "output_type": "stream",
     "text": [
      "Installing package into ‘/home/jupyter/R/x86_64-pc-linux-gnu-library/4.1’\n",
      "(as ‘lib’ is unspecified)\n",
      "\n",
      "Installing package into ‘/home/jupyter/R/x86_64-pc-linux-gnu-library/4.1’\n",
      "(as ‘lib’ is unspecified)\n",
      "\n",
      "Installing package into ‘/home/jupyter/R/x86_64-pc-linux-gnu-library/4.1’\n",
      "(as ‘lib’ is unspecified)\n",
      "\n",
      "Installing package into ‘/home/jupyter/R/x86_64-pc-linux-gnu-library/4.1’\n",
      "(as ‘lib’ is unspecified)\n",
      "\n"
     ]
    }
   ],
   "source": [
    "library(tidyverse)\n",
    "library(readxl)\n",
    "install.packages(\"rio\")\n",
    "library(rio)\n",
    "install.packages(\"infer\")\n",
    "library(infer)\n",
    "install.packages(\"reshape2\")\n",
    "library(reshape2)\n",
    "install.packages(\"broom\")\n",
    "library(broom)"
   ]
  },
  {
   "cell_type": "code",
   "execution_count": 2,
   "id": "4556d800-1597-4f2a-a1a7-c7825453b018",
   "metadata": {},
   "outputs": [
    {
     "data": {
      "text/html": [
       "<table class=\"dataframe\">\n",
       "<caption>A data.frame: 6 × 25</caption>\n",
       "<thead>\n",
       "\t<tr><th></th><th scope=col>ID</th><th scope=col>LIMIT_BAL</th><th scope=col>SEX</th><th scope=col>EDUCATION</th><th scope=col>MARRIAGE</th><th scope=col>AGE</th><th scope=col>PAY_0</th><th scope=col>PAY_2</th><th scope=col>PAY_3</th><th scope=col>PAY_4</th><th scope=col>⋯</th><th scope=col>BILL_AMT4</th><th scope=col>BILL_AMT5</th><th scope=col>BILL_AMT6</th><th scope=col>PAY_AMT1</th><th scope=col>PAY_AMT2</th><th scope=col>PAY_AMT3</th><th scope=col>PAY_AMT4</th><th scope=col>PAY_AMT5</th><th scope=col>PAY_AMT6</th><th scope=col>default payment next month</th></tr>\n",
       "\t<tr><th></th><th scope=col>&lt;dbl&gt;</th><th scope=col>&lt;dbl&gt;</th><th scope=col>&lt;dbl&gt;</th><th scope=col>&lt;dbl&gt;</th><th scope=col>&lt;dbl&gt;</th><th scope=col>&lt;dbl&gt;</th><th scope=col>&lt;dbl&gt;</th><th scope=col>&lt;dbl&gt;</th><th scope=col>&lt;dbl&gt;</th><th scope=col>&lt;dbl&gt;</th><th scope=col>⋯</th><th scope=col>&lt;dbl&gt;</th><th scope=col>&lt;dbl&gt;</th><th scope=col>&lt;dbl&gt;</th><th scope=col>&lt;dbl&gt;</th><th scope=col>&lt;dbl&gt;</th><th scope=col>&lt;dbl&gt;</th><th scope=col>&lt;dbl&gt;</th><th scope=col>&lt;dbl&gt;</th><th scope=col>&lt;dbl&gt;</th><th scope=col>&lt;dbl&gt;</th></tr>\n",
       "</thead>\n",
       "<tbody>\n",
       "\t<tr><th scope=row>1</th><td>1</td><td> 20000</td><td>2</td><td>2</td><td>1</td><td>24</td><td> 2</td><td>2</td><td>-1</td><td>-1</td><td>⋯</td><td>    0</td><td>    0</td><td>    0</td><td>   0</td><td>  689</td><td>    0</td><td>   0</td><td>   0</td><td>   0</td><td>1</td></tr>\n",
       "\t<tr><th scope=row>2</th><td>2</td><td>120000</td><td>2</td><td>2</td><td>2</td><td>26</td><td>-1</td><td>2</td><td> 0</td><td> 0</td><td>⋯</td><td> 3272</td><td> 3455</td><td> 3261</td><td>   0</td><td> 1000</td><td> 1000</td><td>1000</td><td>   0</td><td>2000</td><td>1</td></tr>\n",
       "\t<tr><th scope=row>3</th><td>3</td><td> 90000</td><td>2</td><td>2</td><td>2</td><td>34</td><td> 0</td><td>0</td><td> 0</td><td> 0</td><td>⋯</td><td>14331</td><td>14948</td><td>15549</td><td>1518</td><td> 1500</td><td> 1000</td><td>1000</td><td>1000</td><td>5000</td><td>0</td></tr>\n",
       "\t<tr><th scope=row>4</th><td>4</td><td> 50000</td><td>2</td><td>2</td><td>1</td><td>37</td><td> 0</td><td>0</td><td> 0</td><td> 0</td><td>⋯</td><td>28314</td><td>28959</td><td>29547</td><td>2000</td><td> 2019</td><td> 1200</td><td>1100</td><td>1069</td><td>1000</td><td>0</td></tr>\n",
       "\t<tr><th scope=row>5</th><td>5</td><td> 50000</td><td>1</td><td>2</td><td>1</td><td>57</td><td>-1</td><td>0</td><td>-1</td><td> 0</td><td>⋯</td><td>20940</td><td>19146</td><td>19131</td><td>2000</td><td>36681</td><td>10000</td><td>9000</td><td> 689</td><td> 679</td><td>0</td></tr>\n",
       "\t<tr><th scope=row>6</th><td>6</td><td> 50000</td><td>1</td><td>1</td><td>2</td><td>37</td><td> 0</td><td>0</td><td> 0</td><td> 0</td><td>⋯</td><td>19394</td><td>19619</td><td>20024</td><td>2500</td><td> 1815</td><td>  657</td><td>1000</td><td>1000</td><td> 800</td><td>0</td></tr>\n",
       "</tbody>\n",
       "</table>\n"
      ],
      "text/latex": [
       "A data.frame: 6 × 25\n",
       "\\begin{tabular}{r|lllllllllllllllllllll}\n",
       "  & ID & LIMIT\\_BAL & SEX & EDUCATION & MARRIAGE & AGE & PAY\\_0 & PAY\\_2 & PAY\\_3 & PAY\\_4 & ⋯ & BILL\\_AMT4 & BILL\\_AMT5 & BILL\\_AMT6 & PAY\\_AMT1 & PAY\\_AMT2 & PAY\\_AMT3 & PAY\\_AMT4 & PAY\\_AMT5 & PAY\\_AMT6 & default payment next month\\\\\n",
       "  & <dbl> & <dbl> & <dbl> & <dbl> & <dbl> & <dbl> & <dbl> & <dbl> & <dbl> & <dbl> & ⋯ & <dbl> & <dbl> & <dbl> & <dbl> & <dbl> & <dbl> & <dbl> & <dbl> & <dbl> & <dbl>\\\\\n",
       "\\hline\n",
       "\t1 & 1 &  20000 & 2 & 2 & 1 & 24 &  2 & 2 & -1 & -1 & ⋯ &     0 &     0 &     0 &    0 &   689 &     0 &    0 &    0 &    0 & 1\\\\\n",
       "\t2 & 2 & 120000 & 2 & 2 & 2 & 26 & -1 & 2 &  0 &  0 & ⋯ &  3272 &  3455 &  3261 &    0 &  1000 &  1000 & 1000 &    0 & 2000 & 1\\\\\n",
       "\t3 & 3 &  90000 & 2 & 2 & 2 & 34 &  0 & 0 &  0 &  0 & ⋯ & 14331 & 14948 & 15549 & 1518 &  1500 &  1000 & 1000 & 1000 & 5000 & 0\\\\\n",
       "\t4 & 4 &  50000 & 2 & 2 & 1 & 37 &  0 & 0 &  0 &  0 & ⋯ & 28314 & 28959 & 29547 & 2000 &  2019 &  1200 & 1100 & 1069 & 1000 & 0\\\\\n",
       "\t5 & 5 &  50000 & 1 & 2 & 1 & 57 & -1 & 0 & -1 &  0 & ⋯ & 20940 & 19146 & 19131 & 2000 & 36681 & 10000 & 9000 &  689 &  679 & 0\\\\\n",
       "\t6 & 6 &  50000 & 1 & 1 & 2 & 37 &  0 & 0 &  0 &  0 & ⋯ & 19394 & 19619 & 20024 & 2500 &  1815 &   657 & 1000 & 1000 &  800 & 0\\\\\n",
       "\\end{tabular}\n"
      ],
      "text/markdown": [
       "\n",
       "A data.frame: 6 × 25\n",
       "\n",
       "| <!--/--> | ID &lt;dbl&gt; | LIMIT_BAL &lt;dbl&gt; | SEX &lt;dbl&gt; | EDUCATION &lt;dbl&gt; | MARRIAGE &lt;dbl&gt; | AGE &lt;dbl&gt; | PAY_0 &lt;dbl&gt; | PAY_2 &lt;dbl&gt; | PAY_3 &lt;dbl&gt; | PAY_4 &lt;dbl&gt; | ⋯ ⋯ | BILL_AMT4 &lt;dbl&gt; | BILL_AMT5 &lt;dbl&gt; | BILL_AMT6 &lt;dbl&gt; | PAY_AMT1 &lt;dbl&gt; | PAY_AMT2 &lt;dbl&gt; | PAY_AMT3 &lt;dbl&gt; | PAY_AMT4 &lt;dbl&gt; | PAY_AMT5 &lt;dbl&gt; | PAY_AMT6 &lt;dbl&gt; | default payment next month &lt;dbl&gt; |\n",
       "|---|---|---|---|---|---|---|---|---|---|---|---|---|---|---|---|---|---|---|---|---|---|\n",
       "| 1 | 1 |  20000 | 2 | 2 | 1 | 24 |  2 | 2 | -1 | -1 | ⋯ |     0 |     0 |     0 |    0 |   689 |     0 |    0 |    0 |    0 | 1 |\n",
       "| 2 | 2 | 120000 | 2 | 2 | 2 | 26 | -1 | 2 |  0 |  0 | ⋯ |  3272 |  3455 |  3261 |    0 |  1000 |  1000 | 1000 |    0 | 2000 | 1 |\n",
       "| 3 | 3 |  90000 | 2 | 2 | 2 | 34 |  0 | 0 |  0 |  0 | ⋯ | 14331 | 14948 | 15549 | 1518 |  1500 |  1000 | 1000 | 1000 | 5000 | 0 |\n",
       "| 4 | 4 |  50000 | 2 | 2 | 1 | 37 |  0 | 0 |  0 |  0 | ⋯ | 28314 | 28959 | 29547 | 2000 |  2019 |  1200 | 1100 | 1069 | 1000 | 0 |\n",
       "| 5 | 5 |  50000 | 1 | 2 | 1 | 57 | -1 | 0 | -1 |  0 | ⋯ | 20940 | 19146 | 19131 | 2000 | 36681 | 10000 | 9000 |  689 |  679 | 0 |\n",
       "| 6 | 6 |  50000 | 1 | 1 | 2 | 37 |  0 | 0 |  0 |  0 | ⋯ | 19394 | 19619 | 20024 | 2500 |  1815 |   657 | 1000 | 1000 |  800 | 0 |\n",
       "\n"
      ],
      "text/plain": [
       "  ID LIMIT_BAL SEX EDUCATION MARRIAGE AGE PAY_0 PAY_2 PAY_3 PAY_4 ⋯ BILL_AMT4\n",
       "1 1   20000    2   2         1        24   2    2     -1    -1    ⋯     0    \n",
       "2 2  120000    2   2         2        26  -1    2      0     0    ⋯  3272    \n",
       "3 3   90000    2   2         2        34   0    0      0     0    ⋯ 14331    \n",
       "4 4   50000    2   2         1        37   0    0      0     0    ⋯ 28314    \n",
       "5 5   50000    1   2         1        57  -1    0     -1     0    ⋯ 20940    \n",
       "6 6   50000    1   1         2        37   0    0      0     0    ⋯ 19394    \n",
       "  BILL_AMT5 BILL_AMT6 PAY_AMT1 PAY_AMT2 PAY_AMT3 PAY_AMT4 PAY_AMT5 PAY_AMT6\n",
       "1     0         0        0       689        0       0        0        0    \n",
       "2  3455      3261        0      1000     1000    1000        0     2000    \n",
       "3 14948     15549     1518      1500     1000    1000     1000     5000    \n",
       "4 28959     29547     2000      2019     1200    1100     1069     1000    \n",
       "5 19146     19131     2000     36681    10000    9000      689      679    \n",
       "6 19619     20024     2500      1815      657    1000     1000      800    \n",
       "  default payment next month\n",
       "1 1                         \n",
       "2 1                         \n",
       "3 0                         \n",
       "4 0                         \n",
       "5 0                         \n",
       "6 0                         "
      ]
     },
     "metadata": {},
     "output_type": "display_data"
    },
    {
     "data": {
      "text/html": [
       "30000"
      ],
      "text/latex": [
       "30000"
      ],
      "text/markdown": [
       "30000"
      ],
      "text/plain": [
       "[1] 30000"
      ]
     },
     "metadata": {},
     "output_type": "display_data"
    }
   ],
   "source": [
    "url <- \"https://archive.ics.uci.edu/ml/machine-learning-databases/00350/default%20of%20credit%20card%20clients.xls\"\n",
    "credit_card_data <- rio::import(file = url, skip =1)\n",
    "\n",
    "head(credit_card_data)\n",
    "nrow(credit_card_data)"
   ]
  },
  {
   "cell_type": "markdown",
   "id": "011dd9b0-d9b4-4ae2-aefc-726ffe6f648a",
   "metadata": {},
   "source": [
    "### Cleaning and wrangling data "
   ]
  },
  {
   "cell_type": "code",
   "execution_count": 16,
   "id": "3e81fa86-6c5b-415e-bcbf-11ac501a0c6f",
   "metadata": {},
   "outputs": [
    {
     "data": {
      "text/html": [
       "<table class=\"dataframe\">\n",
       "<caption>A data.frame: 6 × 2</caption>\n",
       "<thead>\n",
       "\t<tr><th></th><th scope=col>education_level</th><th scope=col>default</th></tr>\n",
       "\t<tr><th></th><th scope=col>&lt;fct&gt;</th><th scope=col>&lt;fct&gt;</th></tr>\n",
       "</thead>\n",
       "<tbody>\n",
       "\t<tr><th scope=row>1</th><td>University</td><td>Yes</td></tr>\n",
       "\t<tr><th scope=row>2</th><td>University</td><td>Yes</td></tr>\n",
       "\t<tr><th scope=row>3</th><td>University</td><td>No </td></tr>\n",
       "\t<tr><th scope=row>4</th><td>University</td><td>No </td></tr>\n",
       "\t<tr><th scope=row>5</th><td>University</td><td>No </td></tr>\n",
       "\t<tr><th scope=row>6</th><td>University</td><td>No </td></tr>\n",
       "</tbody>\n",
       "</table>\n"
      ],
      "text/latex": [
       "A data.frame: 6 × 2\n",
       "\\begin{tabular}{r|ll}\n",
       "  & education\\_level & default\\\\\n",
       "  & <fct> & <fct>\\\\\n",
       "\\hline\n",
       "\t1 & University & Yes\\\\\n",
       "\t2 & University & Yes\\\\\n",
       "\t3 & University & No \\\\\n",
       "\t4 & University & No \\\\\n",
       "\t5 & University & No \\\\\n",
       "\t6 & University & No \\\\\n",
       "\\end{tabular}\n"
      ],
      "text/markdown": [
       "\n",
       "A data.frame: 6 × 2\n",
       "\n",
       "| <!--/--> | education_level &lt;fct&gt; | default &lt;fct&gt; |\n",
       "|---|---|---|\n",
       "| 1 | University | Yes |\n",
       "| 2 | University | Yes |\n",
       "| 3 | University | No  |\n",
       "| 4 | University | No  |\n",
       "| 5 | University | No  |\n",
       "| 6 | University | No  |\n",
       "\n"
      ],
      "text/plain": [
       "  education_level default\n",
       "1 University      Yes    \n",
       "2 University      Yes    \n",
       "3 University      No     \n",
       "4 University      No     \n",
       "5 University      No     \n",
       "6 University      No     "
      ]
     },
     "metadata": {},
     "output_type": "display_data"
    },
    {
     "data": {
      "text/plain": [
       "               default\n",
       "education_level   Yes    No\n",
       "    University   3330 10700\n",
       "    High_School  1237  3680"
      ]
     },
     "metadata": {},
     "output_type": "display_data"
    }
   ],
   "source": [
    "credit_card_clean <- credit_card_data %>%\n",
    "                     mutate(education_level=as.character(`EDUCATION`)) %>%\n",
    "                     mutate(default=as.character(`default payment next month`)) %>%\n",
    "                     select(education_level, default) %>% \n",
    "                     mutate(education_level = replace(education_level, education_level == \"2\", \"University\"),\n",
    "                            default = replace(default, default== \"1\", \"Yes\")) %>%\n",
    "                     mutate(education_level = replace(education_level, education_level == \"3\", \"High_School\"),\n",
    "                            default = replace(default, default== \"0\", \"No\"))%>%\n",
    "                    filter(education_level == 'University' | education_level == 'High_School')%>%\n",
    "mutate(education_level = as_factor(education_level),\n",
    "       default = as_factor(default))\n",
    "head(credit_card_clean)\n",
    "table(credit_card_clean)"
   ]
  },
  {
   "cell_type": "markdown",
   "id": "19a109d1-e793-4eea-831d-04df710601b7",
   "metadata": {},
   "source": [
    "## 4. Performing hypothesis tests:\n"
   ]
  },
  {
   "cell_type": "markdown",
   "id": "e2ca7c8b-a45e-4efe-8e6f-35c1dd6f1500",
   "metadata": {},
   "source": [
    "### Hypothesis Testing using Asymtotics Methods:\n"
   ]
  },
  {
   "cell_type": "code",
   "execution_count": 19,
   "id": "e5484edf-76e0-49cd-9e7e-22a7a606ec4f",
   "metadata": {},
   "outputs": [
    {
     "data": {
      "text/html": [
       "<table class=\"dataframe\">\n",
       "<caption>A tibble: 1 × 5</caption>\n",
       "<thead>\n",
       "\t<tr><th scope=col>n_University</th><th scope=col>n_High_School</th><th scope=col>p_hat_University</th><th scope=col>p_hat_High_School</th><th scope=col>prop_diff</th></tr>\n",
       "\t<tr><th scope=col>&lt;int&gt;</th><th scope=col>&lt;int&gt;</th><th scope=col>&lt;dbl&gt;</th><th scope=col>&lt;dbl&gt;</th><th scope=col>&lt;dbl&gt;</th></tr>\n",
       "</thead>\n",
       "<tbody>\n",
       "\t<tr><td>14030</td><td>4917</td><td>0.2373485</td><td>0.2515762</td><td>-0.01422763</td></tr>\n",
       "</tbody>\n",
       "</table>\n"
      ],
      "text/latex": [
       "A tibble: 1 × 5\n",
       "\\begin{tabular}{lllll}\n",
       " n\\_University & n\\_High\\_School & p\\_hat\\_University & p\\_hat\\_High\\_School & prop\\_diff\\\\\n",
       " <int> & <int> & <dbl> & <dbl> & <dbl>\\\\\n",
       "\\hline\n",
       "\t 14030 & 4917 & 0.2373485 & 0.2515762 & -0.01422763\\\\\n",
       "\\end{tabular}\n"
      ],
      "text/markdown": [
       "\n",
       "A tibble: 1 × 5\n",
       "\n",
       "| n_University &lt;int&gt; | n_High_School &lt;int&gt; | p_hat_University &lt;dbl&gt; | p_hat_High_School &lt;dbl&gt; | prop_diff &lt;dbl&gt; |\n",
       "|---|---|---|---|---|\n",
       "| 14030 | 4917 | 0.2373485 | 0.2515762 | -0.01422763 |\n",
       "\n"
      ],
      "text/plain": [
       "  n_University n_High_School p_hat_University p_hat_High_School prop_diff  \n",
       "1 14030        4917          0.2373485        0.2515762         -0.01422763"
      ]
     },
     "metadata": {},
     "output_type": "display_data"
    }
   ],
   "source": [
    "default_summary <-\n",
    "    credit_card_clean %>% \n",
    "    group_by(education_level) %>% \n",
    "    summarise(n = n(), \n",
    "              p_hat = mean(default == \"Yes\"),  \n",
    "             `.groups` = \"drop\") %>% \n",
    "    pivot_wider(names_from = education_level, values_from = c(n, p_hat))%>%\n",
    "     mutate(prop_diff = p_hat_University - p_hat_High_School)\n",
    "default_summary"
   ]
  },
  {
   "cell_type": "code",
   "execution_count": 24,
   "id": "12fcdddf-3ed6-4da3-806f-c087617811f5",
   "metadata": {},
   "outputs": [
    {
     "data": {
      "text/html": [
       "<table class=\"dataframe\">\n",
       "<caption>A tibble: 1 × 9</caption>\n",
       "<thead>\n",
       "\t<tr><th scope=col>estimate1</th><th scope=col>estimate2</th><th scope=col>statistic</th><th scope=col>p.value</th><th scope=col>parameter</th><th scope=col>conf.low</th><th scope=col>conf.high</th><th scope=col>method</th><th scope=col>alternative</th></tr>\n",
       "\t<tr><th scope=col>&lt;dbl&gt;</th><th scope=col>&lt;dbl&gt;</th><th scope=col>&lt;dbl&gt;</th><th scope=col>&lt;dbl&gt;</th><th scope=col>&lt;dbl&gt;</th><th scope=col>&lt;dbl&gt;</th><th scope=col>&lt;dbl&gt;</th><th scope=col>&lt;chr&gt;</th><th scope=col>&lt;chr&gt;</th></tr>\n",
       "</thead>\n",
       "<tbody>\n",
       "\t<tr><td>0.2373485</td><td>0.2515762</td><td>4.028778</td><td>0.04473034</td><td>1</td><td>-0.02825126</td><td>-0.0002039881</td><td>2-sample test for equality of proportions without continuity correction</td><td>two.sided</td></tr>\n",
       "</tbody>\n",
       "</table>\n"
      ],
      "text/latex": [
       "A tibble: 1 × 9\n",
       "\\begin{tabular}{lllllllll}\n",
       " estimate1 & estimate2 & statistic & p.value & parameter & conf.low & conf.high & method & alternative\\\\\n",
       " <dbl> & <dbl> & <dbl> & <dbl> & <dbl> & <dbl> & <dbl> & <chr> & <chr>\\\\\n",
       "\\hline\n",
       "\t 0.2373485 & 0.2515762 & 4.028778 & 0.04473034 & 1 & -0.02825126 & -0.0002039881 & 2-sample test for equality of proportions without continuity correction & two.sided\\\\\n",
       "\\end{tabular}\n"
      ],
      "text/markdown": [
       "\n",
       "A tibble: 1 × 9\n",
       "\n",
       "| estimate1 &lt;dbl&gt; | estimate2 &lt;dbl&gt; | statistic &lt;dbl&gt; | p.value &lt;dbl&gt; | parameter &lt;dbl&gt; | conf.low &lt;dbl&gt; | conf.high &lt;dbl&gt; | method &lt;chr&gt; | alternative &lt;chr&gt; |\n",
       "|---|---|---|---|---|---|---|---|---|\n",
       "| 0.2373485 | 0.2515762 | 4.028778 | 0.04473034 | 1 | -0.02825126 | -0.0002039881 | 2-sample test for equality of proportions without continuity correction | two.sided |\n",
       "\n"
      ],
      "text/plain": [
       "  estimate1 estimate2 statistic p.value    parameter conf.low    conf.high    \n",
       "1 0.2373485 0.2515762 4.028778  0.04473034 1         -0.02825126 -0.0002039881\n",
       "  method                                                                 \n",
       "1 2-sample test for equality of proportions without continuity correction\n",
       "  alternative\n",
       "1 two.sided  "
      ]
     },
     "metadata": {},
     "output_type": "display_data"
    }
   ],
   "source": [
    "default_prop_test<-  \n",
    "    tidy(\n",
    "        prop.test(\n",
    "        x = c(default_summary$n_University* default_summary$p_hat_University,\n",
    "              default_summary$n_High_School * default_summary$p_hat_High_School), # the number of successes,\n",
    "        n = c(default_summary$n_University,\n",
    "              default_summary$n_High_School),# the number of trials, \n",
    "        alternative = \"two.sided\", # alternative hypothesis: \"less\", \"greater\", \"two.sided\"\n",
    "        conf.level = 0.95,\n",
    "        correct = FALSE))\n",
    " # No Answer - remove if you provide an answer\n",
    "\n",
    "default_prop_test"
   ]
  },
  {
   "cell_type": "code",
   "execution_count": null,
   "id": "2472d6f1-9e85-4858-8913-8be61f4a6c24",
   "metadata": {},
   "outputs": [],
   "source": []
  }
 ],
 "metadata": {
  "kernelspec": {
   "display_name": "R",
   "language": "R",
   "name": "ir"
  },
  "language_info": {
   "codemirror_mode": "r",
   "file_extension": ".r",
   "mimetype": "text/x-r-source",
   "name": "R",
   "pygments_lexer": "r",
   "version": "4.1.3"
  }
 },
 "nbformat": 4,
 "nbformat_minor": 5
}
