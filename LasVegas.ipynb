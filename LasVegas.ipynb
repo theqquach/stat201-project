{
 "cells": [
  {
   "cell_type": "code",
   "execution_count": null,
   "id": "a4b007f2-2261-46b4-8518-e00c77342e2d",
   "metadata": {},
   "outputs": [],
   "source": []
  }
 ],
 "metadata": {
  "kernelspec": {
   "display_name": "R",
   "language": "R",
   "name": "ir"
  },
  "language_info": {
   "codemirror_mode": "r",
   "file_extension": ".r",
   "mimetype": "text/x-r-source",
   "name": "R",
   "pygments_lexer": "r",
   "version": "4.1.3"
  }
 },
 "nbformat": 4,
 "nbformat_minor": 5
}
